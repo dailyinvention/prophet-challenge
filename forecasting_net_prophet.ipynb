{
  "cells": [
    {
      "cell_type": "markdown",
      "metadata": {
        "id": "lLcqr6BM12Ty"
      },
      "source": [
        "# Forecasting Net Prophet\n",
        "\n",
        "You’re a growth analyst at [MercadoLibre](http://investor.mercadolibre.com/about-us). With over 200 million users, MercadoLibre is the most popular e-commerce site in Latin America. You've been tasked with analyzing the company's financial and user data in clever ways to make the company grow. So, you want to find out if the ability to predict search traffic can translate into the ability to successfully trade the stock.\n",
        "\n",
        "The instructions for this Challenge are divided into four steps, as follows:\n",
        "\n",
        "* Step 1: Find unusual patterns in hourly Google search traffic\n",
        "\n",
        "* Step 2: Mine the search traffic data for seasonality\n",
        "\n",
        "* Step 3: Relate the search traffic to stock price patterns\n",
        "\n",
        "* Step 4: Create a time series model with Prophet\n",
        "\n",
        "The following subsections detail these steps."
      ]
    },
    {
      "cell_type": "markdown",
      "metadata": {
        "id": "zvLM4Muf12T6"
      },
      "source": [
        "## Install and import the required libraries and dependencies"
      ]
    },
    {
      "cell_type": "code",
      "execution_count": 256,
      "metadata": {
        "colab": {
          "base_uri": "https://localhost:8080/"
        },
        "id": "jETJBREQ16et",
        "outputId": "1c958649-b1b6-4ec3-a3b5-725ea5fead1d"
      },
      "outputs": [
        {
          "name": "stdout",
          "output_type": "stream",
          "text": [
            "Requirement already satisfied: prophet in /opt/anaconda3/envs/py310/lib/python3.10/site-packages (1.1.5)\n",
            "Requirement already satisfied: cmdstanpy>=1.0.4 in /opt/anaconda3/envs/py310/lib/python3.10/site-packages (from prophet) (1.2.4)\n",
            "Requirement already satisfied: numpy>=1.15.4 in /opt/anaconda3/envs/py310/lib/python3.10/site-packages (from prophet) (1.26.4)\n",
            "Requirement already satisfied: matplotlib>=2.0.0 in /opt/anaconda3/envs/py310/lib/python3.10/site-packages (from prophet) (3.8.4)\n",
            "Requirement already satisfied: pandas>=1.0.4 in /opt/anaconda3/envs/py310/lib/python3.10/site-packages (from prophet) (2.2.2)\n",
            "Requirement already satisfied: holidays>=0.25 in /opt/anaconda3/envs/py310/lib/python3.10/site-packages (from prophet) (0.55)\n",
            "Requirement already satisfied: tqdm>=4.36.1 in /opt/anaconda3/envs/py310/lib/python3.10/site-packages (from prophet) (4.66.4)\n",
            "Requirement already satisfied: importlib-resources in /opt/anaconda3/envs/py310/lib/python3.10/site-packages (from prophet) (6.4.4)\n",
            "Requirement already satisfied: stanio<2.0.0,>=0.4.0 in /opt/anaconda3/envs/py310/lib/python3.10/site-packages (from cmdstanpy>=1.0.4->prophet) (0.5.1)\n",
            "Requirement already satisfied: python-dateutil in /opt/anaconda3/envs/py310/lib/python3.10/site-packages (from holidays>=0.25->prophet) (2.9.0.post0)\n",
            "Requirement already satisfied: contourpy>=1.0.1 in /opt/anaconda3/envs/py310/lib/python3.10/site-packages (from matplotlib>=2.0.0->prophet) (1.2.0)\n",
            "Requirement already satisfied: cycler>=0.10 in /opt/anaconda3/envs/py310/lib/python3.10/site-packages (from matplotlib>=2.0.0->prophet) (0.11.0)\n",
            "Requirement already satisfied: fonttools>=4.22.0 in /opt/anaconda3/envs/py310/lib/python3.10/site-packages (from matplotlib>=2.0.0->prophet) (4.51.0)\n",
            "Requirement already satisfied: kiwisolver>=1.3.1 in /opt/anaconda3/envs/py310/lib/python3.10/site-packages (from matplotlib>=2.0.0->prophet) (1.4.4)\n",
            "Requirement already satisfied: packaging>=20.0 in /opt/anaconda3/envs/py310/lib/python3.10/site-packages (from matplotlib>=2.0.0->prophet) (23.2)\n",
            "Requirement already satisfied: pillow>=8 in /opt/anaconda3/envs/py310/lib/python3.10/site-packages (from matplotlib>=2.0.0->prophet) (10.3.0)\n",
            "Requirement already satisfied: pyparsing>=2.3.1 in /opt/anaconda3/envs/py310/lib/python3.10/site-packages (from matplotlib>=2.0.0->prophet) (3.0.9)\n",
            "Requirement already satisfied: pytz>=2020.1 in /opt/anaconda3/envs/py310/lib/python3.10/site-packages (from pandas>=1.0.4->prophet) (2024.1)\n",
            "Requirement already satisfied: tzdata>=2022.7 in /opt/anaconda3/envs/py310/lib/python3.10/site-packages (from pandas>=1.0.4->prophet) (2023.3)\n",
            "Requirement already satisfied: six>=1.5 in /opt/anaconda3/envs/py310/lib/python3.10/site-packages (from python-dateutil->holidays>=0.25->prophet) (1.16.0)\n"
          ]
        }
      ],
      "source": [
        "# Install the required libraries\n",
        "!pip install prophet"
      ]
    },
    {
      "cell_type": "code",
      "execution_count": 257,
      "metadata": {
        "id": "qnzrTQf512T7"
      },
      "outputs": [],
      "source": [
        "# Import the required libraries and dependencies\n",
        "import pandas as pd\n",
        "from prophet import Prophet\n",
        "import datetime as dt\n",
        "import numpy as np\n",
        "%matplotlib inline"
      ]
    },
    {
      "cell_type": "markdown",
      "metadata": {
        "id": "lNPLnTzk12T-"
      },
      "source": [
        "## Step 1: Find Unusual Patterns in Hourly Google Search Traffic\n",
        "\n",
        "The data science manager asks if the Google search traffic for the company links to any financial events at the company. Or, does the search traffic data just present random noise? To answer this question, pick out any unusual patterns in the Google search data for the company, and connect them to the corporate financial events.\n",
        "\n",
        "To do so, complete the following steps:\n",
        "\n",
        "1. Read the search data into a DataFrame, and then slice the data to just the month of May 2020. (During this month, MercadoLibre released its quarterly financial results.) Visualize the results. Do any unusual patterns exist?\n",
        "\n",
        "2. Calculate the total search traffic for the month, and then compare the value to the monthly median across all months. Did the Google search traffic increase during the month that MercadoLibre released its financial results?\n"
      ]
    },
    {
      "cell_type": "markdown",
      "metadata": {
        "id": "VgT_j6J412T-"
      },
      "source": [
        "#### Step 1: Read the search data into a DataFrame, and then slice the data to just the month of May 2020. (During this month, MercadoLibre released its quarterly financial results.) Visualize the results. Do any unusual patterns exist?"
      ]
    },
    {
      "cell_type": "code",
      "execution_count": 258,
      "metadata": {
        "colab": {
          "base_uri": "https://localhost:8080/",
          "height": 513
        },
        "id": "cztyn4NK12T_",
        "outputId": "6c3fb277-069c-4fc1-df63-3631e9296d90"
      },
      "outputs": [
        {
          "name": "stderr",
          "output_type": "stream",
          "text": [
            "/var/folders/v4/v1wh2j7n7_v1r1l0xj84m9xw0000gp/T/ipykernel_18199/1669825240.py:4: UserWarning: Could not infer format, so each element will be parsed individually, falling back to `dateutil`. To ensure parsing is consistent and as-expected, please specify a format.\n",
            "  df_mercado_trends = pd.read_csv(\n"
          ]
        },
        {
          "data": {
            "text/html": [
              "<div>\n",
              "<style scoped>\n",
              "    .dataframe tbody tr th:only-of-type {\n",
              "        vertical-align: middle;\n",
              "    }\n",
              "\n",
              "    .dataframe tbody tr th {\n",
              "        vertical-align: top;\n",
              "    }\n",
              "\n",
              "    .dataframe thead th {\n",
              "        text-align: right;\n",
              "    }\n",
              "</style>\n",
              "<table border=\"1\" class=\"dataframe\">\n",
              "  <thead>\n",
              "    <tr style=\"text-align: right;\">\n",
              "      <th></th>\n",
              "      <th>Search Trends</th>\n",
              "    </tr>\n",
              "    <tr>\n",
              "      <th>Date</th>\n",
              "      <th></th>\n",
              "    </tr>\n",
              "  </thead>\n",
              "  <tbody>\n",
              "    <tr>\n",
              "      <th>2016-06-01 00:00:00</th>\n",
              "      <td>97</td>\n",
              "    </tr>\n",
              "    <tr>\n",
              "      <th>2016-06-01 01:00:00</th>\n",
              "      <td>92</td>\n",
              "    </tr>\n",
              "    <tr>\n",
              "      <th>2016-06-01 02:00:00</th>\n",
              "      <td>76</td>\n",
              "    </tr>\n",
              "    <tr>\n",
              "      <th>2016-06-01 03:00:00</th>\n",
              "      <td>60</td>\n",
              "    </tr>\n",
              "    <tr>\n",
              "      <th>2016-06-01 04:00:00</th>\n",
              "      <td>38</td>\n",
              "    </tr>\n",
              "  </tbody>\n",
              "</table>\n",
              "</div>"
            ],
            "text/plain": [
              "                     Search Trends\n",
              "Date                              \n",
              "2016-06-01 00:00:00             97\n",
              "2016-06-01 01:00:00             92\n",
              "2016-06-01 02:00:00             76\n",
              "2016-06-01 03:00:00             60\n",
              "2016-06-01 04:00:00             38"
            ]
          },
          "metadata": {},
          "output_type": "display_data"
        },
        {
          "data": {
            "text/html": [
              "<div>\n",
              "<style scoped>\n",
              "    .dataframe tbody tr th:only-of-type {\n",
              "        vertical-align: middle;\n",
              "    }\n",
              "\n",
              "    .dataframe tbody tr th {\n",
              "        vertical-align: top;\n",
              "    }\n",
              "\n",
              "    .dataframe thead th {\n",
              "        text-align: right;\n",
              "    }\n",
              "</style>\n",
              "<table border=\"1\" class=\"dataframe\">\n",
              "  <thead>\n",
              "    <tr style=\"text-align: right;\">\n",
              "      <th></th>\n",
              "      <th>Search Trends</th>\n",
              "    </tr>\n",
              "    <tr>\n",
              "      <th>Date</th>\n",
              "      <th></th>\n",
              "    </tr>\n",
              "  </thead>\n",
              "  <tbody>\n",
              "    <tr>\n",
              "      <th>2020-09-07 20:00:00</th>\n",
              "      <td>71</td>\n",
              "    </tr>\n",
              "    <tr>\n",
              "      <th>2020-09-07 21:00:00</th>\n",
              "      <td>83</td>\n",
              "    </tr>\n",
              "    <tr>\n",
              "      <th>2020-09-07 22:00:00</th>\n",
              "      <td>96</td>\n",
              "    </tr>\n",
              "    <tr>\n",
              "      <th>2020-09-07 23:00:00</th>\n",
              "      <td>97</td>\n",
              "    </tr>\n",
              "    <tr>\n",
              "      <th>2020-09-08 00:00:00</th>\n",
              "      <td>96</td>\n",
              "    </tr>\n",
              "  </tbody>\n",
              "</table>\n",
              "</div>"
            ],
            "text/plain": [
              "                     Search Trends\n",
              "Date                              \n",
              "2020-09-07 20:00:00             71\n",
              "2020-09-07 21:00:00             83\n",
              "2020-09-07 22:00:00             96\n",
              "2020-09-07 23:00:00             97\n",
              "2020-09-08 00:00:00             96"
            ]
          },
          "metadata": {},
          "output_type": "display_data"
        }
      ],
      "source": [
        "# Store the data in a Pandas DataFrame\n",
        "# Set the \"Date\" column as the Datetime Index.\n",
        "\n",
        "df_mercado_trends = pd.read_csv(\n",
        "    \"https://static.bc-edx.com/ai/ail-v-1-0/m8/lms/datasets/google_hourly_search_trends.csv\",\n",
        "    index_col='Date',\n",
        "    parse_dates=True\n",
        ").dropna()\n",
        "\n",
        "# Review the first and last five rows of the DataFrame\n",
        "display(df_mercado_trends.head())\n",
        "display(df_mercado_trends.tail())"
      ]
    },
    {
      "cell_type": "code",
      "execution_count": 259,
      "metadata": {
        "colab": {
          "base_uri": "https://localhost:8080/"
        },
        "id": "sfm0FSiF12T_",
        "outputId": "92a26252-48dd-49dc-8e89-99bbb3e268c3"
      },
      "outputs": [
        {
          "name": "stdout",
          "output_type": "stream",
          "text": [
            "<class 'pandas.core.frame.DataFrame'>\n",
            "DatetimeIndex: 37106 entries, 2016-06-01 00:00:00 to 2020-09-08 00:00:00\n",
            "Data columns (total 1 columns):\n",
            " #   Column         Non-Null Count  Dtype\n",
            "---  ------         --------------  -----\n",
            " 0   Search Trends  37106 non-null  int64\n",
            "dtypes: int64(1)\n",
            "memory usage: 579.8 KB\n"
          ]
        }
      ],
      "source": [
        "# Review the data types of the DataFrame using the info function\n",
        "df_mercado_trends.info()"
      ]
    },
    {
      "cell_type": "code",
      "execution_count": 260,
      "metadata": {
        "colab": {
          "base_uri": "https://localhost:8080/",
          "height": 515
        },
        "id": "3HSQMhNK12T_",
        "outputId": "bcc5ae20-83ee-44d9-abc1-e53577998c54"
      },
      "outputs": [
        {
          "data": {
            "text/plain": [
              "<Axes: title={'center': 'Google Hourly Search Trends for May 2020'}, xlabel='Date'>"
            ]
          },
          "execution_count": 260,
          "metadata": {},
          "output_type": "execute_result"
        },
        {
          "data": {
            "image/png": "[encoded data removed]",
            "text/plain": [
              "<Figure size 640x480 with 1 Axes>"
            ]
          },
          "metadata": {},
          "output_type": "display_data"
        }
      ],
      "source": [
        "# Slice the DataFrame to just the month of May 2020\n",
        "df_mercado_trends_may_2020 = df_mercado_trends.loc[\"2020-05-01\":\"2020-05-31\"]\n",
        "\n",
        "# Plot to visualize the data for May 2020\n",
        "df_mercado_trends_may_2020.plot(title=\"Google Hourly Search Trends for May 2020\")"
      ]
    },
    {
      "cell_type": "markdown",
      "metadata": {
        "id": "eo9y14TY12UA"
      },
      "source": [
        "#### Step 2: Calculate the total search traffic for the month, and then compare the value to the monthly median across all months. Did the Google search traffic increase during the month that MercadoLibre released its financial results?"
      ]
    },
    {
      "cell_type": "code",
      "execution_count": 261,
      "metadata": {
        "colab": {
          "base_uri": "https://localhost:8080/"
        },
        "id": "EimOMwen12UA",
        "outputId": "81f8d5f4-3f73-46d6-ff49-ec66d03cd397"
      },
      "outputs": [
        {
          "data": {
            "text/plain": [
              "Search Trends    38181\n",
              "dtype: int64"
            ]
          },
          "execution_count": 261,
          "metadata": {},
          "output_type": "execute_result"
        }
      ],
      "source": [
        "# Calculate the sum of the total search traffic for May 2020\n",
        "traffic_may_2020 = df_mercado_trends_may_2020.sum()\n",
        "\n",
        "# View the traffic_may_2020 value\n",
        "traffic_may_2020"
      ]
    },
    {
      "cell_type": "code",
      "execution_count": 262,
      "metadata": {
        "colab": {
          "base_uri": "https://localhost:8080/"
        },
        "id": "w4B9WQ2O12UB",
        "outputId": "759dbba7-8f9f-4ac6-9bac-a4cc539a5a52"
      },
      "outputs": [
        {
          "data": {
            "text/plain": [
              "Search Trends    35172.5\n",
              "dtype: float64"
            ]
          },
          "execution_count": 262,
          "metadata": {},
          "output_type": "execute_result"
        }
      ],
      "source": [
        "# Calcluate the monhtly median search traffic across all months\n",
        "# Group the DataFrame by index year and then index month, chain the sum and then the median functions\n",
        "median_monthly_traffic = df_mercado_trends.groupby([df_mercado_trends.index.year, df_mercado_trends.index.month]).sum().median()\n",
        "\n",
        "# View the median_monthly_traffic value\n",
        "median_monthly_traffic\n"
      ]
    },
    {
      "cell_type": "code",
      "execution_count": 263,
      "metadata": {
        "colab": {
          "base_uri": "https://localhost:8080/"
        },
        "id": "SaUKnq1e12UB",
        "outputId": "7627f58e-c748-48a3-a392-836aa3dcf7bd"
      },
      "outputs": [
        {
          "data": {
            "text/plain": [
              "Search Trends    1.085536\n",
              "dtype: float64"
            ]
          },
          "execution_count": 263,
          "metadata": {},
          "output_type": "execute_result"
        }
      ],
      "source": [
        "# Compare the seach traffic for the month of May 2020 to the overall monthly median value\n",
        "traffic_may_2020/median_monthly_traffic"
      ]
    },
    {
      "cell_type": "markdown",
      "metadata": {
        "id": "8FzTTGQ-12UC"
      },
      "source": [
        "##### Answer the following question:"
      ]
    },
    {
      "cell_type": "markdown",
      "metadata": {
        "id": "UG979D-v12UC"
      },
      "source": [
        "**Question:** Did the Google search traffic increase during the month that MercadoLibre released its financial results?\n",
        "\n",
        "**Answer:** Based on the results Google search traffic did increase."
      ]
    },
    {
      "cell_type": "markdown",
      "metadata": {
        "id": "xvwtfvC112UC"
      },
      "source": [
        "## Step 2: Mine the Search Traffic Data for Seasonality\n",
        "\n",
        "Marketing realizes that they can use the hourly search data, too. If they can track and predict interest in the company and its platform for any time of day, they can focus their marketing efforts around the times that have the most traffic. This will get a greater return on investment (ROI) from their marketing budget.\n",
        "\n",
        "To that end, you want to mine the search traffic data for predictable seasonal patterns of interest in the company. To do so, complete the following steps:\n",
        "\n",
        "1. Group the hourly search data to plot the average traffic by the hour of day. Does the search traffic peak at a particular time of day or is it relatively consistent?\n",
        "\n",
        "2. Group the hourly search data to plot the average traffic by the day of the week (for example, Monday vs. Friday). Does the search traffic get busiest on any particular day of the week?\n",
        "\n",
        "3. Group the hourly search data to plot the average traffic by the week of the year. Does the search traffic tend to increase during the winter holiday period (weeks 40 through 52)?\n"
      ]
    },
    {
      "cell_type": "markdown",
      "metadata": {
        "id": "ry-VzN48g7Ru"
      },
      "source": [
        "#### Step 1: Group the hourly search data to plot the average traffic by the hour of the day."
      ]
    },
    {
      "cell_type": "code",
      "execution_count": 264,
      "metadata": {
        "colab": {
          "base_uri": "https://localhost:8080/",
          "height": 466
        },
        "id": "gPxzc3Tmg7Ru",
        "outputId": "3748b4e7-880a-4935-ef93-13fd835c0d1d"
      },
      "outputs": [
        {
          "data": {
            "text/plain": [
              "<Axes: title={'center': 'Average Hourly Search Traffic by Day of Week'}, xlabel='Date'>"
            ]
          },
          "execution_count": 264,
          "metadata": {},
          "output_type": "execute_result"
        },
        {
          "data": {
            "image/png": "[encoded data removed]",
            "text/plain": [
              "<Figure size 640x480 with 1 Axes>"
            ]
          },
          "metadata": {},
          "output_type": "display_data"
        }
      ],
      "source": [
        "# Group the hourly search data to plot the average traffic by the day of week, using `df.index.hour`\n",
        "hourly_traffic = df_mercado_trends.groupby(df_mercado_trends.index.hour).mean()\n",
        "hourly_traffic.plot(title=\"Average Hourly Search Traffic by Day of Week\")"
      ]
    },
    {
      "cell_type": "markdown",
      "metadata": {
        "id": "fBoKE-Kx12UC"
      },
      "source": [
        "#### Step 2: Group the hourly search data to plot the average traffic by the day of the week (for example, Monday vs. Friday)."
      ]
    },
    {
      "cell_type": "code",
      "execution_count": 265,
      "metadata": {
        "colab": {
          "base_uri": "https://localhost:8080/",
          "height": 466
        },
        "id": "c3z3n5Mg12UD",
        "outputId": "c285c09e-eb2b-4dfe-d35c-3ec77136197c"
      },
      "outputs": [
        {
          "data": {
            "text/plain": [
              "<Axes: title={'center': 'Average Daily Search Traffic by Day of Week'}, xlabel='day'>"
            ]
          },
          "execution_count": 265,
          "metadata": {},
          "output_type": "execute_result"
        },
        {
          "data": {
            "image/png": "[encoded data removed]",
            "text/plain": [
              "<Figure size 640x480 with 1 Axes>"
            ]
          },
          "metadata": {},
          "output_type": "display_data"
        }
      ],
      "source": [
        "# Group the hourly search data to plot the average traffic by the day of week, using `df.index.isocalendar().day`.\n",
        "day_of_week_traffic = df_mercado_trends.groupby(df_mercado_trends.index.isocalendar().day).mean()\n",
        "day_of_week_traffic.plot(title=\"Average Daily Search Traffic by Day of Week\")"
      ]
    },
    {
      "cell_type": "markdown",
      "metadata": {
        "id": "xm3gLNVRg7Rv"
      },
      "source": [
        "#### Step 3: Group the hourly search data to plot the average traffic by the week of the year."
      ]
    },
    {
      "cell_type": "code",
      "execution_count": 266,
      "metadata": {
        "colab": {
          "base_uri": "https://localhost:8080/",
          "height": 466
        },
        "id": "C8YtZOJTg7Rv",
        "outputId": "f70f8263-0297-48ca-82b4-51b094f51924"
      },
      "outputs": [
        {
          "data": {
            "text/plain": [
              "<Axes: title={'center': 'Average Weekly Search Traffic by Week of the Year'}, xlabel='week'>"
            ]
          },
          "execution_count": 266,
          "metadata": {},
          "output_type": "execute_result"
        },
        {
          "data": {
            "image/png": "[encoded data removed]",
            "text/plain": [
              "<Figure size 640x480 with 1 Axes>"
            ]
          },
          "metadata": {},
          "output_type": "display_data"
        }
      ],
      "source": [
        "# Group the hourly search data to plot the average traffic by the week of the year using `df.index.isocalendar().week`.\n",
        "day_of_week_traffic = df_mercado_trends.groupby(df_mercado_trends.index.isocalendar().week).mean()\n",
        "day_of_week_traffic.plot(title=\"Average Weekly Search Traffic by Week of the Year\")"
      ]
    },
    {
      "cell_type": "markdown",
      "metadata": {
        "id": "U8rZ9rS612UE"
      },
      "source": [
        "##### Answer the following question:"
      ]
    },
    {
      "cell_type": "markdown",
      "metadata": {
        "id": "ZneaiiW-12UE"
      },
      "source": [
        "**Question:** Are there any time based trends that you can see in the data?\n",
        "\n",
        "**Answer:** Search traffic is down between the hours of 5 and 10am.  It also reduces before the beginning of the weekend. Looking at the entire year, It declines from the beginning to the end of the year."
      ]
    },
    {
      "cell_type": "markdown",
      "metadata": {
        "id": "fI9MdNR512UG"
      },
      "source": [
        "## Step 3: Relate the Search Traffic to Stock Price Patterns\n",
        "\n",
        "You mention your work on the search traffic data during a meeting with people in the finance group at the company. They want to know if any relationship between the search data and the company stock price exists, and they ask if you can investigate.\n",
        "\n",
        "To do so, complete the following steps:\n",
        "\n",
        "1. Read in and plot the stock price data. Concatenate the stock price data to the search data in a single DataFrame.\n",
        "\n",
        "2. Market events emerged during the year of 2020 that many companies found difficult. But, after the initial shock to global financial markets, new customers and revenue increased for e-commerce platforms. Slice the data to just the first half of 2020 (`2020-01` to `2020-06` in the DataFrame), and then plot the data. Do both time series indicate a common trend that’s consistent with this narrative?\n",
        "\n",
        "3. Create a new column in the DataFrame named “Lagged Search Trends” that offsets, or shifts, the search traffic by one hour. Create two additional columns:\n",
        "\n",
        "    * “Stock Volatility”, which holds an exponentially weighted four-hour rolling average of the company’s stock volatility\n",
        "\n",
        "    * “Hourly Stock Return”, which holds the percent change of the company's stock price on an hourly basis\n",
        "\n",
        "4. Review the time series correlation, and then answer the following question: Does a predictable relationship exist between the lagged search traffic and the stock volatility or between the lagged search traffic and the stock price returns?\n"
      ]
    },
    {
      "cell_type": "markdown",
      "metadata": {
        "id": "OqkIVUU_12UG"
      },
      "source": [
        "#### Step 1: Read in and plot the stock price data. Concatenate the stock price data to the search data in a single DataFrame."
      ]
    },
    {
      "cell_type": "code",
      "execution_count": 267,
      "metadata": {
        "colab": {
          "base_uri": "https://localhost:8080/",
          "height": 458
        },
        "id": "rKAzc9ew12UG",
        "outputId": "2876a18c-0003-4313-8920-e8fb5ce9eeb5"
      },
      "outputs": [
        {
          "data": {
            "text/html": [
              "<div>\n",
              "<style scoped>\n",
              "    .dataframe tbody tr th:only-of-type {\n",
              "        vertical-align: middle;\n",
              "    }\n",
              "\n",
              "    .dataframe tbody tr th {\n",
              "        vertical-align: top;\n",
              "    }\n",
              "\n",
              "    .dataframe thead th {\n",
              "        text-align: right;\n",
              "    }\n",
              "</style>\n",
              "<table border=\"1\" class=\"dataframe\">\n",
              "  <thead>\n",
              "    <tr style=\"text-align: right;\">\n",
              "      <th></th>\n",
              "      <th>close</th>\n",
              "    </tr>\n",
              "    <tr>\n",
              "      <th>date</th>\n",
              "      <th></th>\n",
              "    </tr>\n",
              "  </thead>\n",
              "  <tbody>\n",
              "    <tr>\n",
              "      <th>2015-01-02 09:00:00</th>\n",
              "      <td>127.67</td>\n",
              "    </tr>\n",
              "    <tr>\n",
              "      <th>2015-01-02 10:00:00</th>\n",
              "      <td>125.44</td>\n",
              "    </tr>\n",
              "    <tr>\n",
              "      <th>2015-01-02 11:00:00</th>\n",
              "      <td>125.57</td>\n",
              "    </tr>\n",
              "    <tr>\n",
              "      <th>2015-01-02 12:00:00</th>\n",
              "      <td>125.40</td>\n",
              "    </tr>\n",
              "    <tr>\n",
              "      <th>2015-01-02 13:00:00</th>\n",
              "      <td>125.17</td>\n",
              "    </tr>\n",
              "  </tbody>\n",
              "</table>\n",
              "</div>"
            ],
            "text/plain": [
              "                      close\n",
              "date                       \n",
              "2015-01-02 09:00:00  127.67\n",
              "2015-01-02 10:00:00  125.44\n",
              "2015-01-02 11:00:00  125.57\n",
              "2015-01-02 12:00:00  125.40\n",
              "2015-01-02 13:00:00  125.17"
            ]
          },
          "metadata": {},
          "output_type": "display_data"
        },
        {
          "data": {
            "text/html": [
              "<div>\n",
              "<style scoped>\n",
              "    .dataframe tbody tr th:only-of-type {\n",
              "        vertical-align: middle;\n",
              "    }\n",
              "\n",
              "    .dataframe tbody tr th {\n",
              "        vertical-align: top;\n",
              "    }\n",
              "\n",
              "    .dataframe thead th {\n",
              "        text-align: right;\n",
              "    }\n",
              "</style>\n",
              "<table border=\"1\" class=\"dataframe\">\n",
              "  <thead>\n",
              "    <tr style=\"text-align: right;\">\n",
              "      <th></th>\n",
              "      <th>close</th>\n",
              "    </tr>\n",
              "    <tr>\n",
              "      <th>date</th>\n",
              "      <th></th>\n",
              "    </tr>\n",
              "  </thead>\n",
              "  <tbody>\n",
              "    <tr>\n",
              "      <th>2020-07-31 11:00:00</th>\n",
              "      <td>1105.780</td>\n",
              "    </tr>\n",
              "    <tr>\n",
              "      <th>2020-07-31 12:00:00</th>\n",
              "      <td>1087.925</td>\n",
              "    </tr>\n",
              "    <tr>\n",
              "      <th>2020-07-31 13:00:00</th>\n",
              "      <td>1095.800</td>\n",
              "    </tr>\n",
              "    <tr>\n",
              "      <th>2020-07-31 14:00:00</th>\n",
              "      <td>1110.650</td>\n",
              "    </tr>\n",
              "    <tr>\n",
              "      <th>2020-07-31 15:00:00</th>\n",
              "      <td>1122.510</td>\n",
              "    </tr>\n",
              "  </tbody>\n",
              "</table>\n",
              "</div>"
            ],
            "text/plain": [
              "                        close\n",
              "date                         \n",
              "2020-07-31 11:00:00  1105.780\n",
              "2020-07-31 12:00:00  1087.925\n",
              "2020-07-31 13:00:00  1095.800\n",
              "2020-07-31 14:00:00  1110.650\n",
              "2020-07-31 15:00:00  1122.510"
            ]
          },
          "metadata": {},
          "output_type": "display_data"
        }
      ],
      "source": [
        "# Upload the \"mercado_stock_price.csv\" file into Colab, then store in a Pandas DataFrame\n",
        "# Set the \"date\" column as the Datetime Index.\n",
        "df_mercado_stock = pd.read_csv(\n",
        "    \"https://static.bc-edx.com/ai/ail-v-1-0/m8/lms/datasets/mercado_stock_price.csv\",\n",
        "    index_col=\"date\",\n",
        "    parse_dates=True\n",
        ").dropna()\n",
        "\n",
        "# View the first and last five rows of the DataFrame\n",
        "display(df_mercado_stock.head())\n",
        "display(df_mercado_stock.tail())"
      ]
    },
    {
      "cell_type": "code",
      "execution_count": 268,
      "metadata": {
        "colab": {
          "base_uri": "https://localhost:8080/",
          "height": 439
        },
        "id": "gPMCkpIB12UH",
        "outputId": "e6c02dd8-2103-4409-9b2c-6536f4300e37"
      },
      "outputs": [
        {
          "data": {
            "text/plain": [
              "<Axes: title={'center': 'MercadoLibre Stock Price'}, xlabel='date'>"
            ]
          },
          "execution_count": 268,
          "metadata": {},
          "output_type": "execute_result"
        },
        {
          "data": {
            "image/png": "[encoded data removed]",
            "text/plain": [
              "<Figure size 640x480 with 1 Axes>"
            ]
          },
          "metadata": {},
          "output_type": "display_data"
        }
      ],
      "source": [
        "# Visualize the closing price of the df_mercado_stock DataFrame\n",
        "df_mercado_stock[\"close\"].plot(title=\"MercadoLibre Stock Price\")"
      ]
    },
    {
      "cell_type": "code",
      "execution_count": 269,
      "metadata": {
        "colab": {
          "base_uri": "https://localhost:8080/",
          "height": 395
        },
        "id": "5Mt44bD512UH",
        "outputId": "b29ca9e3-39fb-4a26-ebc0-ad16a101c02d"
      },
      "outputs": [
        {
          "data": {
            "text/html": [
              "<div>\n",
              "<style scoped>\n",
              "    .dataframe tbody tr th:only-of-type {\n",
              "        vertical-align: middle;\n",
              "    }\n",
              "\n",
              "    .dataframe tbody tr th {\n",
              "        vertical-align: top;\n",
              "    }\n",
              "\n",
              "    .dataframe thead th {\n",
              "        text-align: right;\n",
              "    }\n",
              "</style>\n",
              "<table border=\"1\" class=\"dataframe\">\n",
              "  <thead>\n",
              "    <tr style=\"text-align: right;\">\n",
              "      <th></th>\n",
              "      <th>close</th>\n",
              "      <th>Search Trends</th>\n",
              "    </tr>\n",
              "  </thead>\n",
              "  <tbody>\n",
              "    <tr>\n",
              "      <th>2016-06-01 09:00:00</th>\n",
              "      <td>135.16</td>\n",
              "      <td>6.0</td>\n",
              "    </tr>\n",
              "    <tr>\n",
              "      <th>2016-06-01 10:00:00</th>\n",
              "      <td>136.63</td>\n",
              "      <td>12.0</td>\n",
              "    </tr>\n",
              "    <tr>\n",
              "      <th>2016-06-01 11:00:00</th>\n",
              "      <td>136.56</td>\n",
              "      <td>22.0</td>\n",
              "    </tr>\n",
              "    <tr>\n",
              "      <th>2016-06-01 12:00:00</th>\n",
              "      <td>136.42</td>\n",
              "      <td>33.0</td>\n",
              "    </tr>\n",
              "    <tr>\n",
              "      <th>2016-06-01 13:00:00</th>\n",
              "      <td>136.10</td>\n",
              "      <td>40.0</td>\n",
              "    </tr>\n",
              "  </tbody>\n",
              "</table>\n",
              "</div>"
            ],
            "text/plain": [
              "                      close  Search Trends\n",
              "2016-06-01 09:00:00  135.16            6.0\n",
              "2016-06-01 10:00:00  136.63           12.0\n",
              "2016-06-01 11:00:00  136.56           22.0\n",
              "2016-06-01 12:00:00  136.42           33.0\n",
              "2016-06-01 13:00:00  136.10           40.0"
            ]
          },
          "metadata": {},
          "output_type": "display_data"
        },
        {
          "data": {
            "text/html": [
              "<div>\n",
              "<style scoped>\n",
              "    .dataframe tbody tr th:only-of-type {\n",
              "        vertical-align: middle;\n",
              "    }\n",
              "\n",
              "    .dataframe tbody tr th {\n",
              "        vertical-align: top;\n",
              "    }\n",
              "\n",
              "    .dataframe thead th {\n",
              "        text-align: right;\n",
              "    }\n",
              "</style>\n",
              "<table border=\"1\" class=\"dataframe\">\n",
              "  <thead>\n",
              "    <tr style=\"text-align: right;\">\n",
              "      <th></th>\n",
              "      <th>close</th>\n",
              "      <th>Search Trends</th>\n",
              "    </tr>\n",
              "  </thead>\n",
              "  <tbody>\n",
              "    <tr>\n",
              "      <th>2020-07-31 11:00:00</th>\n",
              "      <td>1105.780</td>\n",
              "      <td>20.0</td>\n",
              "    </tr>\n",
              "    <tr>\n",
              "      <th>2020-07-31 12:00:00</th>\n",
              "      <td>1087.925</td>\n",
              "      <td>32.0</td>\n",
              "    </tr>\n",
              "    <tr>\n",
              "      <th>2020-07-31 13:00:00</th>\n",
              "      <td>1095.800</td>\n",
              "      <td>41.0</td>\n",
              "    </tr>\n",
              "    <tr>\n",
              "      <th>2020-07-31 14:00:00</th>\n",
              "      <td>1110.650</td>\n",
              "      <td>47.0</td>\n",
              "    </tr>\n",
              "    <tr>\n",
              "      <th>2020-07-31 15:00:00</th>\n",
              "      <td>1122.510</td>\n",
              "      <td>53.0</td>\n",
              "    </tr>\n",
              "  </tbody>\n",
              "</table>\n",
              "</div>"
            ],
            "text/plain": [
              "                        close  Search Trends\n",
              "2020-07-31 11:00:00  1105.780           20.0\n",
              "2020-07-31 12:00:00  1087.925           32.0\n",
              "2020-07-31 13:00:00  1095.800           41.0\n",
              "2020-07-31 14:00:00  1110.650           47.0\n",
              "2020-07-31 15:00:00  1122.510           53.0"
            ]
          },
          "metadata": {},
          "output_type": "display_data"
        }
      ],
      "source": [
        "# Concatenate the df_mercado_stock DataFrame with the df_mercado_trends DataFrame\n",
        "# Concatenate the DataFrame by columns (axis=1), and drop and rows with only one column of data\n",
        "mercado_stock_trends_df = pd.concat([df_mercado_stock, df_mercado_trends], axis=1).dropna()\n",
        "\n",
        "# View the first and last five rows of the DataFrame\n",
        "display(mercado_stock_trends_df.head())\n",
        "display(mercado_stock_trends_df.tail())"
      ]
    },
    {
      "cell_type": "markdown",
      "metadata": {
        "id": "aWaMSI4U12UI"
      },
      "source": [
        "#### Step 2: Market events emerged during the year of 2020 that many companies found difficult. But, after the initial shock to global financial markets, new customers and revenue increased for e-commerce platforms. Slice the data to just the first half of 2020 (`2020-01` to `2020-06` in the DataFrame), and then plot the data. Do both time series indicate a common trend that’s consistent with this narrative?"
      ]
    },
    {
      "cell_type": "code",
      "execution_count": 270,
      "metadata": {
        "colab": {
          "base_uri": "https://localhost:8080/",
          "height": 395
        },
        "id": "1KTYdkfK12UI",
        "outputId": "abc46b47-dfe7-43f7-c86f-0a35e0065648"
      },
      "outputs": [
        {
          "data": {
            "text/html": [
              "<div>\n",
              "<style scoped>\n",
              "    .dataframe tbody tr th:only-of-type {\n",
              "        vertical-align: middle;\n",
              "    }\n",
              "\n",
              "    .dataframe tbody tr th {\n",
              "        vertical-align: top;\n",
              "    }\n",
              "\n",
              "    .dataframe thead th {\n",
              "        text-align: right;\n",
              "    }\n",
              "</style>\n",
              "<table border=\"1\" class=\"dataframe\">\n",
              "  <thead>\n",
              "    <tr style=\"text-align: right;\">\n",
              "      <th></th>\n",
              "      <th>close</th>\n",
              "      <th>Search Trends</th>\n",
              "    </tr>\n",
              "  </thead>\n",
              "  <tbody>\n",
              "    <tr>\n",
              "      <th>2020-01-02 09:00:00</th>\n",
              "      <td>601.085</td>\n",
              "      <td>9.0</td>\n",
              "    </tr>\n",
              "    <tr>\n",
              "      <th>2020-01-02 10:00:00</th>\n",
              "      <td>601.290</td>\n",
              "      <td>14.0</td>\n",
              "    </tr>\n",
              "    <tr>\n",
              "      <th>2020-01-02 11:00:00</th>\n",
              "      <td>615.410</td>\n",
              "      <td>25.0</td>\n",
              "    </tr>\n",
              "    <tr>\n",
              "      <th>2020-01-02 12:00:00</th>\n",
              "      <td>611.400</td>\n",
              "      <td>37.0</td>\n",
              "    </tr>\n",
              "    <tr>\n",
              "      <th>2020-01-02 13:00:00</th>\n",
              "      <td>611.830</td>\n",
              "      <td>50.0</td>\n",
              "    </tr>\n",
              "  </tbody>\n",
              "</table>\n",
              "</div>"
            ],
            "text/plain": [
              "                       close  Search Trends\n",
              "2020-01-02 09:00:00  601.085            9.0\n",
              "2020-01-02 10:00:00  601.290           14.0\n",
              "2020-01-02 11:00:00  615.410           25.0\n",
              "2020-01-02 12:00:00  611.400           37.0\n",
              "2020-01-02 13:00:00  611.830           50.0"
            ]
          },
          "metadata": {},
          "output_type": "display_data"
        },
        {
          "data": {
            "text/html": [
              "<div>\n",
              "<style scoped>\n",
              "    .dataframe tbody tr th:only-of-type {\n",
              "        vertical-align: middle;\n",
              "    }\n",
              "\n",
              "    .dataframe tbody tr th {\n",
              "        vertical-align: top;\n",
              "    }\n",
              "\n",
              "    .dataframe thead th {\n",
              "        text-align: right;\n",
              "    }\n",
              "</style>\n",
              "<table border=\"1\" class=\"dataframe\">\n",
              "  <thead>\n",
              "    <tr style=\"text-align: right;\">\n",
              "      <th></th>\n",
              "      <th>close</th>\n",
              "      <th>Search Trends</th>\n",
              "    </tr>\n",
              "  </thead>\n",
              "  <tbody>\n",
              "    <tr>\n",
              "      <th>2020-06-30 11:00:00</th>\n",
              "      <td>976.17</td>\n",
              "      <td>17.0</td>\n",
              "    </tr>\n",
              "    <tr>\n",
              "      <th>2020-06-30 12:00:00</th>\n",
              "      <td>977.50</td>\n",
              "      <td>27.0</td>\n",
              "    </tr>\n",
              "    <tr>\n",
              "      <th>2020-06-30 13:00:00</th>\n",
              "      <td>973.23</td>\n",
              "      <td>37.0</td>\n",
              "    </tr>\n",
              "    <tr>\n",
              "      <th>2020-06-30 14:00:00</th>\n",
              "      <td>976.50</td>\n",
              "      <td>45.0</td>\n",
              "    </tr>\n",
              "    <tr>\n",
              "      <th>2020-06-30 15:00:00</th>\n",
              "      <td>984.93</td>\n",
              "      <td>51.0</td>\n",
              "    </tr>\n",
              "  </tbody>\n",
              "</table>\n",
              "</div>"
            ],
            "text/plain": [
              "                      close  Search Trends\n",
              "2020-06-30 11:00:00  976.17           17.0\n",
              "2020-06-30 12:00:00  977.50           27.0\n",
              "2020-06-30 13:00:00  973.23           37.0\n",
              "2020-06-30 14:00:00  976.50           45.0\n",
              "2020-06-30 15:00:00  984.93           51.0"
            ]
          },
          "metadata": {},
          "output_type": "display_data"
        }
      ],
      "source": [
        "# For the combined dataframe, slice to just the first half of 2020 (2020-01 through 2020-06)\n",
        "mercado_stock_trends_df_2020 = mercado_stock_trends_df.loc[\"2020-01-01\":\"2020-06-30\"]\n",
        "\n",
        "# View the first and last five rows of first_half_2020 DataFrame\n",
        "display(mercado_stock_trends_df_2020.head())\n",
        "display(mercado_stock_trends_df_2020.tail())"
      ]
    },
    {
      "cell_type": "code",
      "execution_count": 271,
      "metadata": {
        "colab": {
          "base_uri": "https://localhost:8080/",
          "height": 431
        },
        "id": "bynt-3QV12UI",
        "outputId": "1ba07056-6e49-404e-80e4-13af50b7a3a1"
      },
      "outputs": [
        {
          "data": {
            "text/plain": [
              "array([<Axes: >, <Axes: >], dtype=object)"
            ]
          },
          "execution_count": 271,
          "metadata": {},
          "output_type": "execute_result"
        },
        {
          "data": {
            "image/png": "[encoded data removed]",
            "text/plain": [
              "<Figure size 640x480 with 2 Axes>"
            ]
          },
          "metadata": {},
          "output_type": "display_data"
        }
      ],
      "source": [
        "# Visualize the close and Search Trends data\n",
        "# Plot each column on a separate axes using the following syntax\n",
        "# `plot(subplots=True)`\n",
        "mercado_stock_trends_df_2020.plot(subplots=True)\n"
      ]
    },
    {
      "cell_type": "markdown",
      "metadata": {
        "id": "qnrxcTZT12UI"
      },
      "source": [
        "##### Answer the following question:"
      ]
    },
    {
      "cell_type": "markdown",
      "metadata": {
        "id": "vBkC9MNX12UJ"
      },
      "source": [
        "**Question:** Do both time series indicate a common trend that’s consistent with this narrative?\n",
        "\n",
        "**Answer:** Yes, this seems to be indicated in the time series."
      ]
    },
    {
      "cell_type": "markdown",
      "metadata": {
        "id": "8MDbU6SD12UJ"
      },
      "source": [
        "#### Step 3: Create a new column in the DataFrame named “Lagged Search Trends” that offsets, or shifts, the search traffic by one hour. Create two additional columns:\n",
        "\n",
        "* “Stock Volatility”, which holds an exponentially weighted four-hour rolling average of the company’s stock volatility\n",
        "\n",
        "* “Hourly Stock Return”, which holds the percent change of the company's stock price on an hourly basis\n"
      ]
    },
    {
      "cell_type": "code",
      "execution_count": 272,
      "metadata": {
        "id": "nNFBId1812UJ"
      },
      "outputs": [
        {
          "data": {
            "text/html": [
              "<div>\n",
              "<style scoped>\n",
              "    .dataframe tbody tr th:only-of-type {\n",
              "        vertical-align: middle;\n",
              "    }\n",
              "\n",
              "    .dataframe tbody tr th {\n",
              "        vertical-align: top;\n",
              "    }\n",
              "\n",
              "    .dataframe thead th {\n",
              "        text-align: right;\n",
              "    }\n",
              "</style>\n",
              "<table border=\"1\" class=\"dataframe\">\n",
              "  <thead>\n",
              "    <tr style=\"text-align: right;\">\n",
              "      <th></th>\n",
              "      <th>close</th>\n",
              "      <th>Search Trends</th>\n",
              "      <th>Lagged Search Trends</th>\n",
              "    </tr>\n",
              "  </thead>\n",
              "  <tbody>\n",
              "    <tr>\n",
              "      <th>2016-06-01 09:00:00</th>\n",
              "      <td>135.160</td>\n",
              "      <td>6.0</td>\n",
              "      <td>NaN</td>\n",
              "    </tr>\n",
              "    <tr>\n",
              "      <th>2016-06-01 10:00:00</th>\n",
              "      <td>136.630</td>\n",
              "      <td>12.0</td>\n",
              "      <td>6.0</td>\n",
              "    </tr>\n",
              "    <tr>\n",
              "      <th>2016-06-01 11:00:00</th>\n",
              "      <td>136.560</td>\n",
              "      <td>22.0</td>\n",
              "      <td>12.0</td>\n",
              "    </tr>\n",
              "    <tr>\n",
              "      <th>2016-06-01 12:00:00</th>\n",
              "      <td>136.420</td>\n",
              "      <td>33.0</td>\n",
              "      <td>22.0</td>\n",
              "    </tr>\n",
              "    <tr>\n",
              "      <th>2016-06-01 13:00:00</th>\n",
              "      <td>136.100</td>\n",
              "      <td>40.0</td>\n",
              "      <td>33.0</td>\n",
              "    </tr>\n",
              "    <tr>\n",
              "      <th>...</th>\n",
              "      <td>...</td>\n",
              "      <td>...</td>\n",
              "      <td>...</td>\n",
              "    </tr>\n",
              "    <tr>\n",
              "      <th>2020-07-31 11:00:00</th>\n",
              "      <td>1105.780</td>\n",
              "      <td>20.0</td>\n",
              "      <td>11.0</td>\n",
              "    </tr>\n",
              "    <tr>\n",
              "      <th>2020-07-31 12:00:00</th>\n",
              "      <td>1087.925</td>\n",
              "      <td>32.0</td>\n",
              "      <td>20.0</td>\n",
              "    </tr>\n",
              "    <tr>\n",
              "      <th>2020-07-31 13:00:00</th>\n",
              "      <td>1095.800</td>\n",
              "      <td>41.0</td>\n",
              "      <td>32.0</td>\n",
              "    </tr>\n",
              "    <tr>\n",
              "      <th>2020-07-31 14:00:00</th>\n",
              "      <td>1110.650</td>\n",
              "      <td>47.0</td>\n",
              "      <td>41.0</td>\n",
              "    </tr>\n",
              "    <tr>\n",
              "      <th>2020-07-31 15:00:00</th>\n",
              "      <td>1122.510</td>\n",
              "      <td>53.0</td>\n",
              "      <td>47.0</td>\n",
              "    </tr>\n",
              "  </tbody>\n",
              "</table>\n",
              "<p>7067 rows × 3 columns</p>\n",
              "</div>"
            ],
            "text/plain": [
              "                        close  Search Trends  Lagged Search Trends\n",
              "2016-06-01 09:00:00   135.160            6.0                   NaN\n",
              "2016-06-01 10:00:00   136.630           12.0                   6.0\n",
              "2016-06-01 11:00:00   136.560           22.0                  12.0\n",
              "2016-06-01 12:00:00   136.420           33.0                  22.0\n",
              "2016-06-01 13:00:00   136.100           40.0                  33.0\n",
              "...                       ...            ...                   ...\n",
              "2020-07-31 11:00:00  1105.780           20.0                  11.0\n",
              "2020-07-31 12:00:00  1087.925           32.0                  20.0\n",
              "2020-07-31 13:00:00  1095.800           41.0                  32.0\n",
              "2020-07-31 14:00:00  1110.650           47.0                  41.0\n",
              "2020-07-31 15:00:00  1122.510           53.0                  47.0\n",
              "\n",
              "[7067 rows x 3 columns]"
            ]
          },
          "execution_count": 272,
          "metadata": {},
          "output_type": "execute_result"
        }
      ],
      "source": [
        "# Create a new column in the mercado_mercado_stock_df DataFrame called Lagged Search Trends\n",
        "# This column should shift the Search Trends information by one hour\n",
        "\n",
        "mercado_stock_trends_df['Lagged Search Trends'] = mercado_stock_trends_df['Search Trends'].shift(1)\n",
        "mercado_stock_trends_df"
      ]
    },
    {
      "cell_type": "code",
      "execution_count": 273,
      "metadata": {
        "id": "ySKeTjVY12UJ"
      },
      "outputs": [
        {
          "data": {
            "text/html": [
              "<div>\n",
              "<style scoped>\n",
              "    .dataframe tbody tr th:only-of-type {\n",
              "        vertical-align: middle;\n",
              "    }\n",
              "\n",
              "    .dataframe tbody tr th {\n",
              "        vertical-align: top;\n",
              "    }\n",
              "\n",
              "    .dataframe thead th {\n",
              "        text-align: right;\n",
              "    }\n",
              "</style>\n",
              "<table border=\"1\" class=\"dataframe\">\n",
              "  <thead>\n",
              "    <tr style=\"text-align: right;\">\n",
              "      <th></th>\n",
              "      <th>close</th>\n",
              "      <th>Search Trends</th>\n",
              "      <th>Lagged Search Trends</th>\n",
              "      <th>Stock Volatility</th>\n",
              "    </tr>\n",
              "  </thead>\n",
              "  <tbody>\n",
              "    <tr>\n",
              "      <th>2016-06-01 09:00:00</th>\n",
              "      <td>135.16</td>\n",
              "      <td>6.0</td>\n",
              "      <td>NaN</td>\n",
              "      <td>NaN</td>\n",
              "    </tr>\n",
              "    <tr>\n",
              "      <th>2016-06-01 10:00:00</th>\n",
              "      <td>136.63</td>\n",
              "      <td>12.0</td>\n",
              "      <td>6.0</td>\n",
              "      <td>NaN</td>\n",
              "    </tr>\n",
              "    <tr>\n",
              "      <th>2016-06-01 11:00:00</th>\n",
              "      <td>136.56</td>\n",
              "      <td>22.0</td>\n",
              "      <td>12.0</td>\n",
              "      <td>NaN</td>\n",
              "    </tr>\n",
              "    <tr>\n",
              "      <th>2016-06-01 12:00:00</th>\n",
              "      <td>136.42</td>\n",
              "      <td>33.0</td>\n",
              "      <td>22.0</td>\n",
              "      <td>NaN</td>\n",
              "    </tr>\n",
              "    <tr>\n",
              "      <th>2016-06-01 13:00:00</th>\n",
              "      <td>136.10</td>\n",
              "      <td>40.0</td>\n",
              "      <td>33.0</td>\n",
              "      <td>0.006134</td>\n",
              "    </tr>\n",
              "  </tbody>\n",
              "</table>\n",
              "</div>"
            ],
            "text/plain": [
              "                      close  Search Trends  Lagged Search Trends  \\\n",
              "2016-06-01 09:00:00  135.16            6.0                   NaN   \n",
              "2016-06-01 10:00:00  136.63           12.0                   6.0   \n",
              "2016-06-01 11:00:00  136.56           22.0                  12.0   \n",
              "2016-06-01 12:00:00  136.42           33.0                  22.0   \n",
              "2016-06-01 13:00:00  136.10           40.0                  33.0   \n",
              "\n",
              "                     Stock Volatility  \n",
              "2016-06-01 09:00:00               NaN  \n",
              "2016-06-01 10:00:00               NaN  \n",
              "2016-06-01 11:00:00               NaN  \n",
              "2016-06-01 12:00:00               NaN  \n",
              "2016-06-01 13:00:00          0.006134  "
            ]
          },
          "metadata": {},
          "output_type": "display_data"
        },
        {
          "data": {
            "text/html": [
              "<div>\n",
              "<style scoped>\n",
              "    .dataframe tbody tr th:only-of-type {\n",
              "        vertical-align: middle;\n",
              "    }\n",
              "\n",
              "    .dataframe tbody tr th {\n",
              "        vertical-align: top;\n",
              "    }\n",
              "\n",
              "    .dataframe thead th {\n",
              "        text-align: right;\n",
              "    }\n",
              "</style>\n",
              "<table border=\"1\" class=\"dataframe\">\n",
              "  <thead>\n",
              "    <tr style=\"text-align: right;\">\n",
              "      <th></th>\n",
              "      <th>close</th>\n",
              "      <th>Search Trends</th>\n",
              "      <th>Lagged Search Trends</th>\n",
              "      <th>Stock Volatility</th>\n",
              "    </tr>\n",
              "  </thead>\n",
              "  <tbody>\n",
              "    <tr>\n",
              "      <th>2020-07-31 11:00:00</th>\n",
              "      <td>1105.780</td>\n",
              "      <td>20.0</td>\n",
              "      <td>11.0</td>\n",
              "      <td>0.012837</td>\n",
              "    </tr>\n",
              "    <tr>\n",
              "      <th>2020-07-31 12:00:00</th>\n",
              "      <td>1087.925</td>\n",
              "      <td>32.0</td>\n",
              "      <td>20.0</td>\n",
              "      <td>0.013549</td>\n",
              "    </tr>\n",
              "    <tr>\n",
              "      <th>2020-07-31 13:00:00</th>\n",
              "      <td>1095.800</td>\n",
              "      <td>41.0</td>\n",
              "      <td>32.0</td>\n",
              "      <td>0.013295</td>\n",
              "    </tr>\n",
              "    <tr>\n",
              "      <th>2020-07-31 14:00:00</th>\n",
              "      <td>1110.650</td>\n",
              "      <td>47.0</td>\n",
              "      <td>41.0</td>\n",
              "      <td>0.013001</td>\n",
              "    </tr>\n",
              "    <tr>\n",
              "      <th>2020-07-31 15:00:00</th>\n",
              "      <td>1122.510</td>\n",
              "      <td>53.0</td>\n",
              "      <td>47.0</td>\n",
              "      <td>0.013566</td>\n",
              "    </tr>\n",
              "  </tbody>\n",
              "</table>\n",
              "</div>"
            ],
            "text/plain": [
              "                        close  Search Trends  Lagged Search Trends  \\\n",
              "2020-07-31 11:00:00  1105.780           20.0                  11.0   \n",
              "2020-07-31 12:00:00  1087.925           32.0                  20.0   \n",
              "2020-07-31 13:00:00  1095.800           41.0                  32.0   \n",
              "2020-07-31 14:00:00  1110.650           47.0                  41.0   \n",
              "2020-07-31 15:00:00  1122.510           53.0                  47.0   \n",
              "\n",
              "                     Stock Volatility  \n",
              "2020-07-31 11:00:00          0.012837  \n",
              "2020-07-31 12:00:00          0.013549  \n",
              "2020-07-31 13:00:00          0.013295  \n",
              "2020-07-31 14:00:00          0.013001  \n",
              "2020-07-31 15:00:00          0.013566  "
            ]
          },
          "metadata": {},
          "output_type": "display_data"
        }
      ],
      "source": [
        "# Create a new column in the mercado_stock_trends_df DataFrame called Stock Volatility\n",
        "# This column should calculate the standard deviation of the closing stock price return data over a 4 period rolling window\n",
        "\n",
        "mercado_stock_trends_df['Stock Volatility'] = mercado_stock_trends_df['close'].pct_change().rolling(window=4).std()\n",
        "\n",
        "display(mercado_stock_trends_df.head())\n",
        "display(mercado_stock_trends_df.tail())"
      ]
    },
    {
      "cell_type": "code",
      "execution_count": 274,
      "metadata": {
        "colab": {
          "base_uri": "https://localhost:8080/",
          "height": 431
        },
        "id": "jIJOEdlS12UJ",
        "outputId": "11af3fae-93d7-4069-8feb-a0fdb40ab044"
      },
      "outputs": [
        {
          "data": {
            "text/plain": [
              "<Axes: title={'center': 'MercadoLibre Stock Volatility'}>"
            ]
          },
          "execution_count": 274,
          "metadata": {},
          "output_type": "execute_result"
        },
        {
          "data": {
            "image/png": "[encoded data removed]",
            "text/plain": [
              "<Figure size 640x480 with 1 Axes>"
            ]
          },
          "metadata": {},
          "output_type": "display_data"
        }
      ],
      "source": [
        "# Visualize the stock volatility\n",
        "mercado_stock_trends_df['Stock Volatility'].plot(title=\"MercadoLibre Stock Volatility\")\n"
      ]
    },
    {
      "cell_type": "markdown",
      "metadata": {
        "id": "FffeBt-w12UK"
      },
      "source": [
        "**Solution Note:** Note how volatility spiked, and tended to stay high, during the first half of 2020. This is a common characteristic of volatility in stock returns worldwide: high volatility days tend to be followed by yet more high volatility days. When it rains, it pours."
      ]
    },
    {
      "cell_type": "code",
      "execution_count": 275,
      "metadata": {
        "id": "nRBDj-I012UK"
      },
      "outputs": [
        {
          "data": {
            "text/html": [
              "<div>\n",
              "<style scoped>\n",
              "    .dataframe tbody tr th:only-of-type {\n",
              "        vertical-align: middle;\n",
              "    }\n",
              "\n",
              "    .dataframe tbody tr th {\n",
              "        vertical-align: top;\n",
              "    }\n",
              "\n",
              "    .dataframe thead th {\n",
              "        text-align: right;\n",
              "    }\n",
              "</style>\n",
              "<table border=\"1\" class=\"dataframe\">\n",
              "  <thead>\n",
              "    <tr style=\"text-align: right;\">\n",
              "      <th></th>\n",
              "      <th>close</th>\n",
              "      <th>Search Trends</th>\n",
              "      <th>Lagged Search Trends</th>\n",
              "      <th>Stock Volatility</th>\n",
              "      <th>Hourly Stock Return</th>\n",
              "    </tr>\n",
              "  </thead>\n",
              "  <tbody>\n",
              "    <tr>\n",
              "      <th>2016-06-01 09:00:00</th>\n",
              "      <td>135.160</td>\n",
              "      <td>6.0</td>\n",
              "      <td>NaN</td>\n",
              "      <td>NaN</td>\n",
              "      <td>NaN</td>\n",
              "    </tr>\n",
              "    <tr>\n",
              "      <th>2016-06-01 10:00:00</th>\n",
              "      <td>136.630</td>\n",
              "      <td>12.0</td>\n",
              "      <td>6.0</td>\n",
              "      <td>NaN</td>\n",
              "      <td>0.010876</td>\n",
              "    </tr>\n",
              "    <tr>\n",
              "      <th>2016-06-01 11:00:00</th>\n",
              "      <td>136.560</td>\n",
              "      <td>22.0</td>\n",
              "      <td>12.0</td>\n",
              "      <td>NaN</td>\n",
              "      <td>-0.000512</td>\n",
              "    </tr>\n",
              "    <tr>\n",
              "      <th>2016-06-01 12:00:00</th>\n",
              "      <td>136.420</td>\n",
              "      <td>33.0</td>\n",
              "      <td>22.0</td>\n",
              "      <td>NaN</td>\n",
              "      <td>-0.001025</td>\n",
              "    </tr>\n",
              "    <tr>\n",
              "      <th>2016-06-01 13:00:00</th>\n",
              "      <td>136.100</td>\n",
              "      <td>40.0</td>\n",
              "      <td>33.0</td>\n",
              "      <td>0.006134</td>\n",
              "      <td>-0.002346</td>\n",
              "    </tr>\n",
              "    <tr>\n",
              "      <th>...</th>\n",
              "      <td>...</td>\n",
              "      <td>...</td>\n",
              "      <td>...</td>\n",
              "      <td>...</td>\n",
              "      <td>...</td>\n",
              "    </tr>\n",
              "    <tr>\n",
              "      <th>2020-07-31 11:00:00</th>\n",
              "      <td>1105.780</td>\n",
              "      <td>20.0</td>\n",
              "      <td>11.0</td>\n",
              "      <td>0.012837</td>\n",
              "      <td>0.006380</td>\n",
              "    </tr>\n",
              "    <tr>\n",
              "      <th>2020-07-31 12:00:00</th>\n",
              "      <td>1087.925</td>\n",
              "      <td>32.0</td>\n",
              "      <td>20.0</td>\n",
              "      <td>0.013549</td>\n",
              "      <td>-0.016147</td>\n",
              "    </tr>\n",
              "    <tr>\n",
              "      <th>2020-07-31 13:00:00</th>\n",
              "      <td>1095.800</td>\n",
              "      <td>41.0</td>\n",
              "      <td>32.0</td>\n",
              "      <td>0.013295</td>\n",
              "      <td>0.007239</td>\n",
              "    </tr>\n",
              "    <tr>\n",
              "      <th>2020-07-31 14:00:00</th>\n",
              "      <td>1110.650</td>\n",
              "      <td>47.0</td>\n",
              "      <td>41.0</td>\n",
              "      <td>0.013001</td>\n",
              "      <td>0.013552</td>\n",
              "    </tr>\n",
              "    <tr>\n",
              "      <th>2020-07-31 15:00:00</th>\n",
              "      <td>1122.510</td>\n",
              "      <td>53.0</td>\n",
              "      <td>47.0</td>\n",
              "      <td>0.013566</td>\n",
              "      <td>0.010678</td>\n",
              "    </tr>\n",
              "  </tbody>\n",
              "</table>\n",
              "<p>7067 rows × 5 columns</p>\n",
              "</div>"
            ],
            "text/plain": [
              "                        close  Search Trends  Lagged Search Trends  \\\n",
              "2016-06-01 09:00:00   135.160            6.0                   NaN   \n",
              "2016-06-01 10:00:00   136.630           12.0                   6.0   \n",
              "2016-06-01 11:00:00   136.560           22.0                  12.0   \n",
              "2016-06-01 12:00:00   136.420           33.0                  22.0   \n",
              "2016-06-01 13:00:00   136.100           40.0                  33.0   \n",
              "...                       ...            ...                   ...   \n",
              "2020-07-31 11:00:00  1105.780           20.0                  11.0   \n",
              "2020-07-31 12:00:00  1087.925           32.0                  20.0   \n",
              "2020-07-31 13:00:00  1095.800           41.0                  32.0   \n",
              "2020-07-31 14:00:00  1110.650           47.0                  41.0   \n",
              "2020-07-31 15:00:00  1122.510           53.0                  47.0   \n",
              "\n",
              "                     Stock Volatility  Hourly Stock Return  \n",
              "2016-06-01 09:00:00               NaN                  NaN  \n",
              "2016-06-01 10:00:00               NaN             0.010876  \n",
              "2016-06-01 11:00:00               NaN            -0.000512  \n",
              "2016-06-01 12:00:00               NaN            -0.001025  \n",
              "2016-06-01 13:00:00          0.006134            -0.002346  \n",
              "...                               ...                  ...  \n",
              "2020-07-31 11:00:00          0.012837             0.006380  \n",
              "2020-07-31 12:00:00          0.013549            -0.016147  \n",
              "2020-07-31 13:00:00          0.013295             0.007239  \n",
              "2020-07-31 14:00:00          0.013001             0.013552  \n",
              "2020-07-31 15:00:00          0.013566             0.010678  \n",
              "\n",
              "[7067 rows x 5 columns]"
            ]
          },
          "execution_count": 275,
          "metadata": {},
          "output_type": "execute_result"
        }
      ],
      "source": [
        "# Create a new column in the mercado_stock_trends_df DataFrame called Hourly Stock Return\n",
        "# This column should calculate hourly return percentage of the closing price\n",
        "\n",
        "mercado_stock_trends_df['Hourly Stock Return'] = mercado_stock_trends_df['close'].pct_change()\n",
        "mercado_stock_trends_df"
      ]
    },
    {
      "cell_type": "code",
      "execution_count": 276,
      "metadata": {
        "colab": {
          "base_uri": "https://localhost:8080/",
          "height": 395
        },
        "id": "e8_dQ_tT12UK",
        "outputId": "57056cc1-c27a-43d5-8cc4-a38d6b86b764"
      },
      "outputs": [
        {
          "data": {
            "text/html": [
              "<div>\n",
              "<style scoped>\n",
              "    .dataframe tbody tr th:only-of-type {\n",
              "        vertical-align: middle;\n",
              "    }\n",
              "\n",
              "    .dataframe tbody tr th {\n",
              "        vertical-align: top;\n",
              "    }\n",
              "\n",
              "    .dataframe thead th {\n",
              "        text-align: right;\n",
              "    }\n",
              "</style>\n",
              "<table border=\"1\" class=\"dataframe\">\n",
              "  <thead>\n",
              "    <tr style=\"text-align: right;\">\n",
              "      <th></th>\n",
              "      <th>close</th>\n",
              "      <th>Search Trends</th>\n",
              "      <th>Lagged Search Trends</th>\n",
              "      <th>Stock Volatility</th>\n",
              "      <th>Hourly Stock Return</th>\n",
              "    </tr>\n",
              "  </thead>\n",
              "  <tbody>\n",
              "    <tr>\n",
              "      <th>2016-06-01 09:00:00</th>\n",
              "      <td>135.16</td>\n",
              "      <td>6.0</td>\n",
              "      <td>NaN</td>\n",
              "      <td>NaN</td>\n",
              "      <td>NaN</td>\n",
              "    </tr>\n",
              "    <tr>\n",
              "      <th>2016-06-01 10:00:00</th>\n",
              "      <td>136.63</td>\n",
              "      <td>12.0</td>\n",
              "      <td>6.0</td>\n",
              "      <td>NaN</td>\n",
              "      <td>0.010876</td>\n",
              "    </tr>\n",
              "    <tr>\n",
              "      <th>2016-06-01 11:00:00</th>\n",
              "      <td>136.56</td>\n",
              "      <td>22.0</td>\n",
              "      <td>12.0</td>\n",
              "      <td>NaN</td>\n",
              "      <td>-0.000512</td>\n",
              "    </tr>\n",
              "    <tr>\n",
              "      <th>2016-06-01 12:00:00</th>\n",
              "      <td>136.42</td>\n",
              "      <td>33.0</td>\n",
              "      <td>22.0</td>\n",
              "      <td>NaN</td>\n",
              "      <td>-0.001025</td>\n",
              "    </tr>\n",
              "    <tr>\n",
              "      <th>2016-06-01 13:00:00</th>\n",
              "      <td>136.10</td>\n",
              "      <td>40.0</td>\n",
              "      <td>33.0</td>\n",
              "      <td>0.006134</td>\n",
              "      <td>-0.002346</td>\n",
              "    </tr>\n",
              "  </tbody>\n",
              "</table>\n",
              "</div>"
            ],
            "text/plain": [
              "                      close  Search Trends  Lagged Search Trends  \\\n",
              "2016-06-01 09:00:00  135.16            6.0                   NaN   \n",
              "2016-06-01 10:00:00  136.63           12.0                   6.0   \n",
              "2016-06-01 11:00:00  136.56           22.0                  12.0   \n",
              "2016-06-01 12:00:00  136.42           33.0                  22.0   \n",
              "2016-06-01 13:00:00  136.10           40.0                  33.0   \n",
              "\n",
              "                     Stock Volatility  Hourly Stock Return  \n",
              "2016-06-01 09:00:00               NaN                  NaN  \n",
              "2016-06-01 10:00:00               NaN             0.010876  \n",
              "2016-06-01 11:00:00               NaN            -0.000512  \n",
              "2016-06-01 12:00:00               NaN            -0.001025  \n",
              "2016-06-01 13:00:00          0.006134            -0.002346  "
            ]
          },
          "metadata": {},
          "output_type": "display_data"
        },
        {
          "data": {
            "text/html": [
              "<div>\n",
              "<style scoped>\n",
              "    .dataframe tbody tr th:only-of-type {\n",
              "        vertical-align: middle;\n",
              "    }\n",
              "\n",
              "    .dataframe tbody tr th {\n",
              "        vertical-align: top;\n",
              "    }\n",
              "\n",
              "    .dataframe thead th {\n",
              "        text-align: right;\n",
              "    }\n",
              "</style>\n",
              "<table border=\"1\" class=\"dataframe\">\n",
              "  <thead>\n",
              "    <tr style=\"text-align: right;\">\n",
              "      <th></th>\n",
              "      <th>close</th>\n",
              "      <th>Search Trends</th>\n",
              "      <th>Lagged Search Trends</th>\n",
              "      <th>Stock Volatility</th>\n",
              "      <th>Hourly Stock Return</th>\n",
              "    </tr>\n",
              "  </thead>\n",
              "  <tbody>\n",
              "    <tr>\n",
              "      <th>2020-07-31 11:00:00</th>\n",
              "      <td>1105.780</td>\n",
              "      <td>20.0</td>\n",
              "      <td>11.0</td>\n",
              "      <td>0.012837</td>\n",
              "      <td>0.006380</td>\n",
              "    </tr>\n",
              "    <tr>\n",
              "      <th>2020-07-31 12:00:00</th>\n",
              "      <td>1087.925</td>\n",
              "      <td>32.0</td>\n",
              "      <td>20.0</td>\n",
              "      <td>0.013549</td>\n",
              "      <td>-0.016147</td>\n",
              "    </tr>\n",
              "    <tr>\n",
              "      <th>2020-07-31 13:00:00</th>\n",
              "      <td>1095.800</td>\n",
              "      <td>41.0</td>\n",
              "      <td>32.0</td>\n",
              "      <td>0.013295</td>\n",
              "      <td>0.007239</td>\n",
              "    </tr>\n",
              "    <tr>\n",
              "      <th>2020-07-31 14:00:00</th>\n",
              "      <td>1110.650</td>\n",
              "      <td>47.0</td>\n",
              "      <td>41.0</td>\n",
              "      <td>0.013001</td>\n",
              "      <td>0.013552</td>\n",
              "    </tr>\n",
              "    <tr>\n",
              "      <th>2020-07-31 15:00:00</th>\n",
              "      <td>1122.510</td>\n",
              "      <td>53.0</td>\n",
              "      <td>47.0</td>\n",
              "      <td>0.013566</td>\n",
              "      <td>0.010678</td>\n",
              "    </tr>\n",
              "  </tbody>\n",
              "</table>\n",
              "</div>"
            ],
            "text/plain": [
              "                        close  Search Trends  Lagged Search Trends  \\\n",
              "2020-07-31 11:00:00  1105.780           20.0                  11.0   \n",
              "2020-07-31 12:00:00  1087.925           32.0                  20.0   \n",
              "2020-07-31 13:00:00  1095.800           41.0                  32.0   \n",
              "2020-07-31 14:00:00  1110.650           47.0                  41.0   \n",
              "2020-07-31 15:00:00  1122.510           53.0                  47.0   \n",
              "\n",
              "                     Stock Volatility  Hourly Stock Return  \n",
              "2020-07-31 11:00:00          0.012837             0.006380  \n",
              "2020-07-31 12:00:00          0.013549            -0.016147  \n",
              "2020-07-31 13:00:00          0.013295             0.007239  \n",
              "2020-07-31 14:00:00          0.013001             0.013552  \n",
              "2020-07-31 15:00:00          0.013566             0.010678  "
            ]
          },
          "metadata": {},
          "output_type": "display_data"
        }
      ],
      "source": [
        "# View the first and last five rows of the mercado_stock_trends_df DataFrame\n",
        "display(mercado_stock_trends_df.head())\n",
        "display(mercado_stock_trends_df.tail())"
      ]
    },
    {
      "cell_type": "markdown",
      "metadata": {
        "id": "0ijd-NMF12UK"
      },
      "source": [
        "#### Step 4: Review the time series correlation, and then answer the following question: Does a predictable relationship exist between the lagged search traffic and the stock volatility or between the lagged search traffic and the stock price returns?"
      ]
    },
    {
      "cell_type": "code",
      "execution_count": 277,
      "metadata": {
        "colab": {
          "base_uri": "https://localhost:8080/",
          "height": 143
        },
        "id": "SBTDo89212UK",
        "outputId": "7412d411-6c99-486a-8e25-96c0401ad06c"
      },
      "outputs": [
        {
          "data": {
            "text/html": [
              "<div>\n",
              "<style scoped>\n",
              "    .dataframe tbody tr th:only-of-type {\n",
              "        vertical-align: middle;\n",
              "    }\n",
              "\n",
              "    .dataframe tbody tr th {\n",
              "        vertical-align: top;\n",
              "    }\n",
              "\n",
              "    .dataframe thead th {\n",
              "        text-align: right;\n",
              "    }\n",
              "</style>\n",
              "<table border=\"1\" class=\"dataframe\">\n",
              "  <thead>\n",
              "    <tr style=\"text-align: right;\">\n",
              "      <th></th>\n",
              "      <th>Stock Volatility</th>\n",
              "      <th>Lagged Search Trends</th>\n",
              "      <th>Hourly Stock Return</th>\n",
              "    </tr>\n",
              "  </thead>\n",
              "  <tbody>\n",
              "    <tr>\n",
              "      <th>Stock Volatility</th>\n",
              "      <td>1.000000</td>\n",
              "      <td>-0.148938</td>\n",
              "      <td>0.061424</td>\n",
              "    </tr>\n",
              "    <tr>\n",
              "      <th>Lagged Search Trends</th>\n",
              "      <td>-0.148938</td>\n",
              "      <td>1.000000</td>\n",
              "      <td>0.017929</td>\n",
              "    </tr>\n",
              "    <tr>\n",
              "      <th>Hourly Stock Return</th>\n",
              "      <td>0.061424</td>\n",
              "      <td>0.017929</td>\n",
              "      <td>1.000000</td>\n",
              "    </tr>\n",
              "  </tbody>\n",
              "</table>\n",
              "</div>"
            ],
            "text/plain": [
              "                      Stock Volatility  Lagged Search Trends  \\\n",
              "Stock Volatility              1.000000             -0.148938   \n",
              "Lagged Search Trends         -0.148938              1.000000   \n",
              "Hourly Stock Return           0.061424              0.017929   \n",
              "\n",
              "                      Hourly Stock Return  \n",
              "Stock Volatility                 0.061424  \n",
              "Lagged Search Trends             0.017929  \n",
              "Hourly Stock Return              1.000000  "
            ]
          },
          "execution_count": 277,
          "metadata": {},
          "output_type": "execute_result"
        }
      ],
      "source": [
        "# Construct correlation table of Stock Volatility, Lagged Search Trends, and Hourly Stock Return\n",
        "mercado_stock_trends_df[['Stock Volatility', 'Lagged Search Trends', 'Hourly Stock Return']].corr()"
      ]
    },
    {
      "cell_type": "markdown",
      "metadata": {
        "id": "h-GH17Lx12UL"
      },
      "source": [
        "##### Answer the following question:\n"
      ]
    },
    {
      "cell_type": "markdown",
      "metadata": {
        "id": "VDe24Tla12UL"
      },
      "source": [
        "**Question:** Does a predictable relationship exist between the lagged search traffic and the stock volatility or between the lagged search traffic and the stock price returns?\n",
        "\n",
        "**Answer:** A predictable relationship does not exist between lagged search traffic and stock volatility.  Nor does one exist between lagged search traffic and stock price returns"
      ]
    },
    {
      "cell_type": "markdown",
      "metadata": {
        "id": "0pK2MFUk12UL"
      },
      "source": [
        "## Step 4: Create a Time Series Model with Prophet\n",
        "\n",
        "Now, you need to produce a time series model that analyzes and forecasts patterns in the hourly search data. To do so, complete the following steps:\n",
        "\n",
        "1. Set up the Google search data for a Prophet forecasting model.\n",
        "\n",
        "2. After estimating the model, plot the forecast. How's the near-term forecast for the popularity of MercadoLibre?\n",
        "\n",
        "3. Plot the individual time series components of the model to answer the following questions:\n",
        "\n",
        "    * What time of day exhibits the greatest popularity?\n",
        "\n",
        "    * Which day of the week gets the most search traffic?\n",
        "\n",
        "    * What's the lowest point for search traffic in the calendar year?\n"
      ]
    },
    {
      "cell_type": "markdown",
      "metadata": {
        "id": "jBewkPew12UL"
      },
      "source": [
        "#### Step 1: Set up the Google search data for a Prophet forecasting model."
      ]
    },
    {
      "cell_type": "code",
      "execution_count": 278,
      "metadata": {
        "colab": {
          "base_uri": "https://localhost:8080/",
          "height": 395
        },
        "id": "NQ69E7pl12UL",
        "outputId": "8819397a-adfc-4090-ad50-26e78e8d4544"
      },
      "outputs": [
        {
          "data": {
            "text/html": [
              "<div>\n",
              "<style scoped>\n",
              "    .dataframe tbody tr th:only-of-type {\n",
              "        vertical-align: middle;\n",
              "    }\n",
              "\n",
              "    .dataframe tbody tr th {\n",
              "        vertical-align: top;\n",
              "    }\n",
              "\n",
              "    .dataframe thead th {\n",
              "        text-align: right;\n",
              "    }\n",
              "</style>\n",
              "<table border=\"1\" class=\"dataframe\">\n",
              "  <thead>\n",
              "    <tr style=\"text-align: right;\">\n",
              "      <th></th>\n",
              "      <th>ds</th>\n",
              "      <th>y</th>\n",
              "    </tr>\n",
              "  </thead>\n",
              "  <tbody>\n",
              "    <tr>\n",
              "      <th>0</th>\n",
              "      <td>2016-06-01 00:00:00</td>\n",
              "      <td>97</td>\n",
              "    </tr>\n",
              "    <tr>\n",
              "      <th>1</th>\n",
              "      <td>2016-06-01 01:00:00</td>\n",
              "      <td>92</td>\n",
              "    </tr>\n",
              "    <tr>\n",
              "      <th>2</th>\n",
              "      <td>2016-06-01 02:00:00</td>\n",
              "      <td>76</td>\n",
              "    </tr>\n",
              "    <tr>\n",
              "      <th>3</th>\n",
              "      <td>2016-06-01 03:00:00</td>\n",
              "      <td>60</td>\n",
              "    </tr>\n",
              "    <tr>\n",
              "      <th>4</th>\n",
              "      <td>2016-06-01 04:00:00</td>\n",
              "      <td>38</td>\n",
              "    </tr>\n",
              "  </tbody>\n",
              "</table>\n",
              "</div>"
            ],
            "text/plain": [
              "                   ds   y\n",
              "0 2016-06-01 00:00:00  97\n",
              "1 2016-06-01 01:00:00  92\n",
              "2 2016-06-01 02:00:00  76\n",
              "3 2016-06-01 03:00:00  60\n",
              "4 2016-06-01 04:00:00  38"
            ]
          },
          "metadata": {},
          "output_type": "display_data"
        },
        {
          "data": {
            "text/html": [
              "<div>\n",
              "<style scoped>\n",
              "    .dataframe tbody tr th:only-of-type {\n",
              "        vertical-align: middle;\n",
              "    }\n",
              "\n",
              "    .dataframe tbody tr th {\n",
              "        vertical-align: top;\n",
              "    }\n",
              "\n",
              "    .dataframe thead th {\n",
              "        text-align: right;\n",
              "    }\n",
              "</style>\n",
              "<table border=\"1\" class=\"dataframe\">\n",
              "  <thead>\n",
              "    <tr style=\"text-align: right;\">\n",
              "      <th></th>\n",
              "      <th>ds</th>\n",
              "      <th>y</th>\n",
              "    </tr>\n",
              "  </thead>\n",
              "  <tbody>\n",
              "    <tr>\n",
              "      <th>37101</th>\n",
              "      <td>2020-09-07 20:00:00</td>\n",
              "      <td>71</td>\n",
              "    </tr>\n",
              "    <tr>\n",
              "      <th>37102</th>\n",
              "      <td>2020-09-07 21:00:00</td>\n",
              "      <td>83</td>\n",
              "    </tr>\n",
              "    <tr>\n",
              "      <th>37103</th>\n",
              "      <td>2020-09-07 22:00:00</td>\n",
              "      <td>96</td>\n",
              "    </tr>\n",
              "    <tr>\n",
              "      <th>37104</th>\n",
              "      <td>2020-09-07 23:00:00</td>\n",
              "      <td>97</td>\n",
              "    </tr>\n",
              "    <tr>\n",
              "      <th>37105</th>\n",
              "      <td>2020-09-08 00:00:00</td>\n",
              "      <td>96</td>\n",
              "    </tr>\n",
              "  </tbody>\n",
              "</table>\n",
              "</div>"
            ],
            "text/plain": [
              "                       ds   y\n",
              "37101 2020-09-07 20:00:00  71\n",
              "37102 2020-09-07 21:00:00  83\n",
              "37103 2020-09-07 22:00:00  96\n",
              "37104 2020-09-07 23:00:00  97\n",
              "37105 2020-09-08 00:00:00  96"
            ]
          },
          "metadata": {},
          "output_type": "display_data"
        }
      ],
      "source": [
        "# Using the df_mercado_trends DataFrame, reset the index so the date information is no longer the index\n",
        "df_mercado_trends.reset_index(inplace=True)\n",
        "\n",
        "# Label the columns ds and y so that the syntax is recognized by Prophet\n",
        "prophet_df = df_mercado_trends.rename(columns={'Date': 'ds', 'Search Trends': 'y'})\n",
        "\n",
        "# Drop an NaN values from the prophet_df DataFrame\n",
        "prophet_df.dropna(inplace=True)\n",
        "\n",
        "# View the first and last five rows of the mercado_prophet_df DataFrame\n",
        "display(prophet_df.head())\n",
        "display(prophet_df.tail())\n"
      ]
    },
    {
      "cell_type": "code",
      "execution_count": 279,
      "metadata": {
        "colab": {
          "base_uri": "https://localhost:8080/"
        },
        "id": "tXemEAJm12UM",
        "outputId": "47f620df-103b-4bd6-f312-1f49167c6379"
      },
      "outputs": [],
      "source": [
        "# Call the Prophet function, store as an object\n"
      ]
    },
    {
      "cell_type": "code",
      "execution_count": 280,
      "metadata": {
        "colab": {
          "base_uri": "https://localhost:8080/"
        },
        "id": "9bou0iwL12UM",
        "outputId": "13d25545-2160-4132-e897-54d86d2e381d"
      },
      "outputs": [],
      "source": [
        "# Fit the time-series model.\n"
      ]
    },
    {
      "cell_type": "code",
      "execution_count": 281,
      "metadata": {
        "colab": {
          "base_uri": "https://localhost:8080/",
          "height": 206
        },
        "id": "BtJ5oDPE12UM",
        "outputId": "d37d2945-bf00-4f23-cf4f-c351037c0777"
      },
      "outputs": [],
      "source": [
        "# Create a future dataframe to hold predictions\n",
        "# Make the prediction go out as far as 2000 hours (approx 80 days)\n",
        "\n",
        "\n",
        "# View the last five rows of the future_mercado_trends DataFrame\n"
      ]
    },
    {
      "cell_type": "code",
      "execution_count": 282,
      "metadata": {
        "colab": {
          "base_uri": "https://localhost:8080/",
          "height": 429
        },
        "id": "-JVSYE6C12UN",
        "outputId": "54f181cf-7915-48a3-e353-4d099824b144"
      },
      "outputs": [],
      "source": [
        "# Make the predictions for the trend data using the future_mercado_trends DataFrame\n",
        "\n",
        "\n",
        "# Display the first five rows of the forecast_mercado_trends DataFrame\n"
      ]
    },
    {
      "cell_type": "markdown",
      "metadata": {
        "id": "l5jjK41T12UN"
      },
      "source": [
        "#### Step 2: After estimating the model, plot the forecast. How's the near-term forecast for the popularity of MercadoLibre?"
      ]
    },
    {
      "cell_type": "code",
      "execution_count": 283,
      "metadata": {
        "colab": {
          "base_uri": "https://localhost:8080/",
          "height": 1000
        },
        "id": "wNf28QS212UN",
        "outputId": "e288e54e-d68a-4c4b-d347-0cb668ce0cc8"
      },
      "outputs": [],
      "source": [
        "# Plot the Prophet predictions for the Mercado trends data\n"
      ]
    },
    {
      "cell_type": "markdown",
      "metadata": {
        "id": "p3twBdEn12UO"
      },
      "source": [
        "##### Answer the following question:"
      ]
    },
    {
      "cell_type": "markdown",
      "metadata": {
        "id": "CDsZWZwE12UO"
      },
      "source": [
        "**Question:**  How's the near-term forecast for the popularity of MercadoLibre?\n",
        "\n",
        "**Answer:**\n"
      ]
    },
    {
      "cell_type": "markdown",
      "metadata": {
        "id": "MY3-VMd612UO"
      },
      "source": [
        "#### Step 3: Plot the individual time series components of the model to answer the following questions:\n",
        "\n",
        "* What time of day exhibits the greatest popularity?\n",
        "\n",
        "* Which day of the week gets the most search traffic?\n",
        "\n",
        "* What's the lowest point for search traffic in the calendar year?\n"
      ]
    },
    {
      "cell_type": "code",
      "execution_count": 284,
      "metadata": {
        "colab": {
          "base_uri": "https://localhost:8080/",
          "height": 238
        },
        "id": "4r31Spg-12UO",
        "outputId": "ed4144f0-6b12-416f-80a3-856374bdf07a"
      },
      "outputs": [],
      "source": [
        "# Set the index in the forecast_mercado_trends DataFrame to the ds datetime column\n",
        "\n",
        "\n",
        "# View the only the yhat,yhat_lower and yhat_upper columns from the DataFrame\n",
        "\n"
      ]
    },
    {
      "cell_type": "markdown",
      "metadata": {
        "id": "LSAl_1m812UO"
      },
      "source": [
        "Solutions Note: `yhat` represents the most likely (average) forecast, whereas `yhat_lower` and `yhat_upper` represents the worst and best case prediction (based on what are known as 95% confidence intervals)."
      ]
    },
    {
      "cell_type": "code",
      "execution_count": 285,
      "metadata": {
        "colab": {
          "base_uri": "https://localhost:8080/",
          "height": 515
        },
        "id": "qYJDjsb312UP",
        "outputId": "727a167e-5a14-4e40-d9fd-26d2e0641834"
      },
      "outputs": [],
      "source": [
        "# From the forecast_mercado_trends DataFrame, plot the data to visualize\n",
        "#  the yhat, yhat_lower, and yhat_upper columns over the last 2000 hours\n"
      ]
    },
    {
      "cell_type": "code",
      "execution_count": 286,
      "metadata": {
        "colab": {
          "base_uri": "https://localhost:8080/",
          "height": 1000
        },
        "id": "eetFbEwC12UP",
        "outputId": "ff17c006-d793-4337-afbc-15a2df1d8523"
      },
      "outputs": [],
      "source": [
        "# Reset the index in the forecast_mercado_trends DataFrame\n",
        "\n",
        "\n",
        "# Use the plot_components function to visualize the forecast results\n",
        "# for the forecast_mercado_trends DataFrame\n"
      ]
    },
    {
      "cell_type": "markdown",
      "metadata": {
        "id": "Xan9nO9O12UP"
      },
      "source": [
        "##### Answer the following questions:"
      ]
    },
    {
      "cell_type": "markdown",
      "metadata": {
        "id": "FmWgULWo12UQ"
      },
      "source": [
        "**Question:** What time of day exhibits the greatest popularity?\n",
        "\n",
        "**Answer:**"
      ]
    },
    {
      "cell_type": "markdown",
      "metadata": {
        "id": "JkkXUATk12UQ"
      },
      "source": [
        "**Question:** Which day of week gets the most search traffic?\n",
        "   \n",
        "**Answer:**"
      ]
    },
    {
      "cell_type": "markdown",
      "metadata": {
        "id": "EUeR3iHu12UQ"
      },
      "source": [
        "**Question:** What's the lowest point for search traffic in the calendar year?\n",
        "\n",
        "**Answer:**\n"
      ]
    }
  ],
  "metadata": {
    "colab": {
      "provenance": []
    },
    "kernelspec": {
      "display_name": "Python 3 (ipykernel)",
      "language": "python",
      "name": "python3"
    },
    "language_info": {
      "codemirror_mode": {
        "name": "ipython",
        "version": 3
      },
      "file_extension": ".py",
      "mimetype": "text/x-python",
      "name": "python",
      "nbconvert_exporter": "python",
      "pygments_lexer": "ipython3",
      "version": "3.10.14"
    }
  },
  "nbformat": 4,
  "nbformat_minor": 0
}
